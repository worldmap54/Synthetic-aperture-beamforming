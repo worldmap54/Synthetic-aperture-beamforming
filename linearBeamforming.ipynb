{
 "cells": [
  {
   "cell_type": "code",
   "execution_count": null,
   "metadata": {},
   "outputs": [],
   "source": [
    "## Package\n",
    "import numpy as np\n",
    "import matplotlib.pyplot as plt\n",
    "import tkinter as tk\n",
    "from scipy.io import loadmat\n",
    "from tkinter import filedialog\n",
    "from scipy.signal import  hilbert\n",
    "from FreqAnalysisModule import FreqAnalysis\n",
    "from Beamforming import DAS\n",
    "from Fillter_us import FIR_us\n",
    "\n"
   ]
  },
  {
   "cell_type": "code",
   "execution_count": null,
   "metadata": {},
   "outputs": [],
   "source": [
    "## Load .mat file from dir.\n",
    "\n",
    "root = tk.Tk()\n",
    "root.withdraw()  \n",
    "\n",
    "root.attributes('-topmost', True)\n",
    "\n",
    "file_path = filedialog.askopenfilename(\n",
    "    title=\"Select a file\",\n",
    "    filetypes=[ (\"MATLAB files\", \"*.mat\")],\n",
    "    parent=root \n",
    ")\n",
    "\n",
    "dataset = loadmat(file_path)\n",
    "dataset = dataset['dataset']"
   ]
  },
  {
   "cell_type": "code",
   "execution_count": null,
   "metadata": {},
   "outputs": [],
   "source": [
    "## Parameter setting\n",
    "c = 1540                      # Sound Velocity     [m/sec]\n",
    "N = len(dataset)                # Number of Sample   [index]\n",
    "N2 = round(N/2)\n",
    "activeNum = dataset.shape[1]    # Number of Active Ch. [index]\n",
    "sclNum = dataset.shape[2]       # Number of Scan Line  [index]\n",
    "fs = 1e9                        # Sampling Frequecny [Hz]\n",
    "f0 = 60e6                       # Center Frequecny   [Hz]\n",
    "pitch = 20e-6                   # Pitch size         [m]\n",
    "unitDepth = c/fs/2              \n",
    "f_vec = (np.array(range(1,N2+1)) * fs/(2*N2)-1)/1e6  \n",
    "dist_vec = np.array(range(0,N)) * unitDepth          # [m] "
   ]
  },
  {
   "cell_type": "code",
   "execution_count": null,
   "metadata": {},
   "outputs": [],
   "source": [
    "## Original Signal's Frequency Analysis\n",
    "# FreqAnalysis(dataset, fs, N, N2, sclNum)z/\n",
    "# Filter Design\n",
    "numtaps = 129\n",
    "lowcut =45e6\n",
    "highcut = 80e6\n",
    "\n",
    "filtered_dataset = FIR_us(dataset, numtaps=numtaps,fs=fs,\n",
    "                          lowcut=lowcut, highcut=highcut)"
   ]
  },
  {
   "cell_type": "code",
   "execution_count": null,
   "metadata": {},
   "outputs": [],
   "source": [
    "##  Delay & Summation(DAS)\n",
    "# Summation\n",
    "beamforming_data, summation_data=DAS(data=dataset,N=N,activeNum=activeNum,\n",
    "    sclNum=sclNum,dist_vec=dist_vec,pitch=pitch,fs=fs,c=c)\n",
    "\n",
    "filtered_BFD = FIR_us(beamforming_data, numtaps=numtaps,fs=fs,\n",
    "                          lowcut=lowcut, highcut=highcut)"
   ]
  },
  {
   "cell_type": "code",
   "execution_count": null,
   "metadata": {},
   "outputs": [],
   "source": [
    "## Envelop detection\n",
    "hilbert_data = np.abs(hilbert(summation_data))"
   ]
  },
  {
   "cell_type": "code",
   "execution_count": null,
   "metadata": {},
   "outputs": [],
   "source": [
    "## Log Compression\n",
    "DR = 50\n",
    "logComp = np.zeros_like(hilbert_data)\n",
    "maxValue = np.max(np.max(hilbert_data))\n",
    "\n",
    "ymax = 2**8-1\n",
    "logComp = ymax*((20/DR)*np.log10(hilbert_data/maxValue)+1)\n",
    "logComp[logComp<0] = 0"
   ]
  },
  {
   "cell_type": "code",
   "execution_count": null,
   "metadata": {},
   "outputs": [],
   "source": [
    "## Digital scan convertor(DSC)\n",
    "plt.figure(3)\n",
    "plt.imshow(logComp, cmap='gray', aspect='auto')"
   ]
  }
 ],
 "metadata": {
  "kernelspec": {
   "display_name": "synthetic",
   "language": "python",
   "name": "python3"
  },
  "language_info": {
   "codemirror_mode": {
    "name": "ipython",
    "version": 3
   },
   "file_extension": ".py",
   "mimetype": "text/x-python",
   "name": "python",
   "nbconvert_exporter": "python",
   "pygments_lexer": "ipython3",
   "version": "3.12.7"
  }
 },
 "nbformat": 4,
 "nbformat_minor": 2
}
